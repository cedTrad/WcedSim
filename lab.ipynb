{
 "cells": [
  {
   "cell_type": "code",
   "execution_count": 7,
   "metadata": {},
   "outputs": [
    {
     "name": "stdout",
     "output_type": "stream",
     "text": [
      "120 / 120\n"
     ]
    }
   ],
   "source": [
    "from app.simulation import Simulation\n",
    "\n",
    "import warnings\n",
    "warnings.filterwarnings('ignore')\n",
    "\n",
    "%load_ext autoreload\n",
    "%autoreload 2\n",
    "\n",
    "#n=\n",
    "\n",
    "SYMBOLS = [\"QNT\", \"EGLD\"]\n",
    "\n",
    "SYMBOLS = [\"QNT\", \"XMR\"]\n",
    "Weigths = [0.3, 0.3, 0.2]\n",
    "\n",
    "start = \"2023-01\"\n",
    "end = \"2023-05\"\n",
    "\n",
    "capital = 100\n",
    "\n",
    "    \n",
    "params_list = [\n",
    "        {\"symbols\": [\"ETH\"], \"capital\": 100,\n",
    "         \"start\": \"2023-01\", \"end\": \"2023-04\", \n",
    "         \"interval\": \"1d\", \"db_trades\": \"P1\"}\n",
    "    ]\n",
    "\n",
    "#w = Simulation(symbols= SYMBOLS, capital= capital, start=start, end= end, db_trades = \"simulation_2\")\n",
    "w = Simulation(**params_list[0])\n",
    "w.run()\n"
   ]
  },
  {
   "cell_type": "code",
   "execution_count": 1,
   "metadata": {},
   "outputs": [
    {
     "data": {
      "text/plain": [
       "'p'"
      ]
     },
     "execution_count": 1,
     "metadata": {},
     "output_type": "execute_result"
    }
   ],
   "source": [
    "\"p\""
   ]
  },
  {
   "cell_type": "code",
   "execution_count": 2,
   "metadata": {},
   "outputs": [
    {
     "name": "stdout",
     "output_type": "stream",
     "text": [
      "All simulations are completed.\n"
     ]
    }
   ],
   "source": [
    "from app.simulation import Simulation\n",
    "\n",
    "import warnings\n",
    "warnings.filterwarnings('ignore')\n",
    "\n",
    "%load_ext autoreload\n",
    "%autoreload 2\n",
    "\n",
    "#n=\n",
    "\n",
    "import multiprocessing\n",
    "\n",
    "def run_simulation(params):\n",
    "    app = Simulation(**params)\n",
    "    app.run()\n",
    "    \n",
    "\n",
    "portfolio_params = [\n",
    "    {\"symbols\": [\"ETH\"], \"capital\": 100, \"start\": \"2023-01\", \"end\": \"2023-04\", \"interval\": \"1d\", \"db_trades\": \"P1\"},\n",
    "    {\"symbols\": [\"XMR\"], \"capital\": 100, \"start\": \"2023-01\", \"end\": \"2023-04\", \"interval\": \"1d\", \"db_trades\": \"P2\"},\n",
    "    {\"symbols\": [\"BTC\"], \"capital\": 100, \"start\": \"2023-01\", \"end\": \"2023-04\", \"interval\": \"1d\", \"db_trades\": \"P3\"},\n",
    "    {\"symbols\": [\"GALA\"], \"capital\": 100, \"start\": \"2023-01\", \"end\": \"2023-04\", \"interval\": \"1d\", \"db_trades\": \"P4\"},\n",
    "    {\"symbols\": [\"EGLD\"], \"capital\": 100, \"start\": \"2023-01\", \"end\": \"2023-04\", \"interval\": \"1d\", \"db_trades\": \"P5\"}\n",
    "]\n",
    "\n",
    "if __name__ == \"__main__\":\n",
    "    processes = []\n",
    "    for params in portfolio_params:\n",
    "        p = multiprocessing.Process(target=run_simulation, args=(params,))\n",
    "        processes.append(p)\n",
    "        p.start()\n",
    "            \n",
    "    for p in processes:\n",
    "        p.join()\n",
    "\n",
    "    print(\"All simulations are completed.\")"
   ]
  },
  {
   "cell_type": "code",
   "execution_count": 3,
   "metadata": {},
   "outputs": [
    {
     "name": "stdout",
     "output_type": "stream",
     "text": [
      "120 / 120\n",
      "120 / 120\n",
      "All simulations are completed.\n"
     ]
    }
   ],
   "source": [
    "import threading\n",
    "\n",
    "from app.simulation import Simulation\n",
    "\n",
    "import warnings\n",
    "warnings.filterwarnings('ignore')\n",
    "\n",
    "def run_simulation(params):\n",
    "    app = Simulation(**params)\n",
    "    app.run()\n",
    "\n",
    "\n",
    "portfolio_params = [\n",
    "    {\"symbols\": [\"ETH\"], \"capital\": 100, \"start\": \"2023-01\", \"end\": \"2023-04\", \"interval\": \"1d\", \"db_trades\": \"P1\"},\n",
    "    {\"symbols\": [\"XMR\"], \"capital\": 100, \"start\": \"2023-01\", \"end\": \"2023-04\", \"interval\": \"1d\", \"db_trades\": \"P2\"},\n",
    "    {\"symbols\": [\"BTC\"], \"capital\": 100, \"start\": \"2023-01\", \"end\": \"2023-04\", \"interval\": \"1d\", \"db_trades\": \"P3\"},\n",
    "    {\"symbols\": [\"GALA\"], \"capital\": 100, \"start\": \"2023-01\", \"end\": \"2023-04\", \"interval\": \"1d\", \"db_trades\": \"P4\"},\n",
    "    {\"symbols\": [\"EGLD\"], \"capital\": 100, \"start\": \"2023-01\", \"end\": \"2023-04\", \"interval\": \"1d\", \"db_trades\": \"P5\"}\n",
    "]\n",
    "\n",
    "\n",
    "threads = []\n",
    "for params in portfolio_params:\n",
    "    t = threading.Thread(target=run_simulation, args=(params,))\n",
    "    threads.append(t)\n",
    "    t.start()\n",
    "\n",
    "for t in threads:\n",
    "    t.join()\n",
    "\n",
    "print(\"All simulations are completed.\")\n"
   ]
  },
  {
   "cell_type": "code",
   "execution_count": null,
   "metadata": {},
   "outputs": [],
   "source": [
    "w.report.p_evalutation.plot()"
   ]
  },
  {
   "cell_type": "code",
   "execution_count": null,
   "metadata": {},
   "outputs": [],
   "source": [
    "w.report.plot_portfolio()"
   ]
  },
  {
   "cell_type": "code",
   "execution_count": null,
   "metadata": {},
   "outputs": [],
   "source": [
    "signal = w.signal.strategies_matrix"
   ]
  },
  {
   "cell_type": "code",
   "execution_count": null,
   "metadata": {},
   "outputs": [],
   "source": [
    "trade = w.journal.data\n",
    "\n",
    "portfolio = w.journal.portfolio_data\n",
    "\n",
    "asset_1 = w.report.assets_data[SYMBOLS[0]][\"data\"]\n",
    "#asset_2 = w.report.assets_data[SYMBOLS[1]][\"data\"]\n",
    "#asset_3 = w.report.assets_data[SYMBOLS[2]]\n",
    "\n"
   ]
  },
  {
   "cell_type": "code",
   "execution_count": null,
   "metadata": {},
   "outputs": [],
   "source": [
    "portfolio"
   ]
  },
  {
   "cell_type": "code",
   "execution_count": null,
   "metadata": {},
   "outputs": [],
   "source": [
    "w.report.plot(\"pnl\", True)"
   ]
  },
  {
   "cell_type": "code",
   "execution_count": null,
   "metadata": {},
   "outputs": [],
   "source": [
    "w.portfolio.assets"
   ]
  },
  {
   "cell_type": "code",
   "execution_count": null,
   "metadata": {},
   "outputs": [],
   "source": [
    "2"
   ]
  },
  {
   "cell_type": "code",
   "execution_count": null,
   "metadata": {},
   "outputs": [],
   "source": [
    "import plotly.express as px \n",
    "from app.report import Report"
   ]
  },
  {
   "cell_type": "code",
   "execution_count": null,
   "metadata": {},
   "outputs": [],
   "source": [
    "rep = Report(db_trades=\"simulation_3\")\n",
    "rep.run()"
   ]
  },
  {
   "cell_type": "code",
   "execution_count": null,
   "metadata": {},
   "outputs": [],
   "source": [
    "dd = rep.assets_data[\"QNT\"][\"data\"]\n",
    "dd"
   ]
  },
  {
   "cell_type": "code",
   "execution_count": null,
   "metadata": {},
   "outputs": [],
   "source": [
    "rep.portfolio_data"
   ]
  },
  {
   "cell_type": "code",
   "execution_count": null,
   "metadata": {},
   "outputs": [],
   "source": [
    "dd.head()"
   ]
  },
  {
   "cell_type": "code",
   "execution_count": null,
   "metadata": {},
   "outputs": [],
   "source": [
    "px.bar(dd[[\"recovery\", \"pnl_pct\"]])"
   ]
  },
  {
   "cell_type": "code",
   "execution_count": null,
   "metadata": {},
   "outputs": [],
   "source": [
    "n="
   ]
  },
  {
   "cell_type": "code",
   "execution_count": null,
   "metadata": {},
   "outputs": [],
   "source": [
    "rep.portfolio_data.head()"
   ]
  },
  {
   "cell_type": "code",
   "execution_count": null,
   "metadata": {},
   "outputs": [],
   "source": [
    "rep.p_evalutation.plot()"
   ]
  },
  {
   "cell_type": "code",
   "execution_count": null,
   "metadata": {},
   "outputs": [],
   "source": []
  },
  {
   "cell_type": "code",
   "execution_count": null,
   "metadata": {},
   "outputs": [],
   "source": [
    "import plotly.graph_objects as go\n",
    "\n",
    "fig = go.Figure()\n",
    "fig.add_trace(go.Scatter(x=[1, 2, 3, 4], y=[0, 2, 3, 5], fill='tozeroy',\n",
    "                    mode='none' # override default markers+lines\n",
    "                    ))\n",
    "fig.add_trace(go.Scatter(x=[1, 2, 3, 4], y=[3, 5, 1, 7], fill='tonexty',\n",
    "                    mode= 'none'))\n",
    "\n",
    "fig.show()"
   ]
  },
  {
   "cell_type": "code",
   "execution_count": null,
   "metadata": {},
   "outputs": [],
   "source": [
    "datetime.datetime.now()"
   ]
  },
  {
   "cell_type": "code",
   "execution_count": null,
   "metadata": {},
   "outputs": [],
   "source": [
    "utc = pytz.utc\n",
    "datetime.datetime.now(utc) - datetime.timedelta(days = 1)"
   ]
  },
  {
   "cell_type": "code",
   "execution_count": 23,
   "metadata": {},
   "outputs": [],
   "source": [
    "import os"
   ]
  },
  {
   "cell_type": "code",
   "execution_count": 24,
   "metadata": {},
   "outputs": [
    {
     "data": {
      "text/plain": [
       "'c:\\\\Users\\\\cc\\\\Desktop\\\\CedAlgo\\\\WcedSim'"
      ]
     },
     "execution_count": 24,
     "metadata": {},
     "output_type": "execute_result"
    }
   ],
   "source": [
    "cur_dir = os.getcwd()\n",
    "cur_dir"
   ]
  },
  {
   "cell_type": "code",
   "execution_count": 25,
   "metadata": {},
   "outputs": [
    {
     "ename": "TypeError",
     "evalue": "'module' object is not callable",
     "output_type": "error",
     "traceback": [
      "\u001b[1;31m---------------------------------------------------------------------------\u001b[0m",
      "\u001b[1;31mTypeError\u001b[0m                                 Traceback (most recent call last)",
      "Cell \u001b[1;32mIn[25], line 1\u001b[0m\n\u001b[1;32m----> 1\u001b[0m os\u001b[39m.\u001b[39;49mpath(dr[\u001b[39m0\u001b[39;49m])\n",
      "\u001b[1;31mTypeError\u001b[0m: 'module' object is not callable"
     ]
    }
   ],
   "source": [
    "os.path(dr[0])"
   ]
  },
  {
   "cell_type": "code",
   "execution_count": 19,
   "metadata": {},
   "outputs": [
    {
     "data": {
      "text/plain": [
       "('c:\\\\Users\\\\cc\\\\Desktop\\\\CedAlgo', 'WcedSim')"
      ]
     },
     "execution_count": 19,
     "metadata": {},
     "output_type": "execute_result"
    }
   ],
   "source": [
    "dr =os.path.split(cur_dir)\n",
    "dr"
   ]
  },
  {
   "cell_type": "code",
   "execution_count": 33,
   "metadata": {},
   "outputs": [
    {
     "data": {
      "text/plain": [
       "[]"
      ]
     },
     "execution_count": 33,
     "metadata": {},
     "output_type": "execute_result"
    }
   ],
   "source": [
    "path = os.getcwd() + \"\\\\data\"\n",
    "sim = os.listdir(path)\n",
    "sim\n"
   ]
  },
  {
   "cell_type": "code",
   "execution_count": 31,
   "metadata": {},
   "outputs": [],
   "source": [
    "os.remove(path+f\"\\\\{sim[0]}\")"
   ]
  },
  {
   "cell_type": "code",
   "execution_count": 10,
   "metadata": {},
   "outputs": [
    {
     "ename": "KeyError",
     "evalue": "'HOME'",
     "output_type": "error",
     "traceback": [
      "\u001b[1;31m---------------------------------------------------------------------------\u001b[0m",
      "\u001b[1;31mKeyError\u001b[0m                                  Traceback (most recent call last)",
      "Cell \u001b[1;32mIn[10], line 1\u001b[0m\n\u001b[1;32m----> 1\u001b[0m x \u001b[39m=\u001b[39m os\u001b[39m.\u001b[39;49menviron[\u001b[39m'\u001b[39;49m\u001b[39mHOME\u001b[39;49m\u001b[39m'\u001b[39;49m]\n\u001b[0;32m      2\u001b[0m \u001b[39mprint\u001b[39m(x)\n",
      "File \u001b[1;32m<frozen os>:679\u001b[0m, in \u001b[0;36m__getitem__\u001b[1;34m(self, key)\u001b[0m\n",
      "\u001b[1;31mKeyError\u001b[0m: 'HOME'"
     ]
    }
   ],
   "source": [
    "x = os.environ['HOME']\n",
    "print(x)"
   ]
  },
  {
   "cell_type": "code",
   "execution_count": 11,
   "metadata": {},
   "outputs": [
    {
     "ename": "TypeError",
     "evalue": "'module' object is not callable",
     "output_type": "error",
     "traceback": [
      "\u001b[1;31m---------------------------------------------------------------------------\u001b[0m",
      "\u001b[1;31mTypeError\u001b[0m                                 Traceback (most recent call last)",
      "Cell \u001b[1;32mIn[11], line 1\u001b[0m\n\u001b[1;32m----> 1\u001b[0m os\u001b[39m.\u001b[39;49mpath()\n",
      "\u001b[1;31mTypeError\u001b[0m: 'module' object is not callable"
     ]
    }
   ],
   "source": [
    "os.path()"
   ]
  }
 ],
 "metadata": {
  "kernelspec": {
   "display_name": "Python 3",
   "language": "python",
   "name": "python3"
  },
  "language_info": {
   "codemirror_mode": {
    "name": "ipython",
    "version": 3
   },
   "file_extension": ".py",
   "mimetype": "text/x-python",
   "name": "python",
   "nbconvert_exporter": "python",
   "pygments_lexer": "ipython3",
   "version": "3.11.4"
  },
  "orig_nbformat": 4
 },
 "nbformat": 4,
 "nbformat_minor": 2
}
